# from typing import List, Dict, Tuple, Optional, Callable, Any
from itertools import product
import matplotlib.pyplot as plt
import numpy as np
import torch
import torch.optim as optim
from src.algorithms.adam import AdamOptimizer
from src.algorithms.optimize import (
    optimize_with_multiple_optimizers,
    optimize_with_one_optimizer,
    optimize_workflow,
    tune_parameters,
    tune_parameters_multiple
)
from src.algorithms.optim_utils import (
    plot_convergence_path,
    plot_multiple_convergence_paths
)
from src.algorithms.test_functions import (
    ackley,
    ackley_grad,
    mk_gauss,
    mk_quad,
    rosenbrock,
    rosenbrock_grad
)
