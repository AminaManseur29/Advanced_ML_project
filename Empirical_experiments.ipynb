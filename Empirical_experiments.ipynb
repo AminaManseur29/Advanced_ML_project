{
 "cells": [
  {
   "cell_type": "markdown",
   "metadata": {},
   "source": [
    "# Packages importation "
   ]
  },
  {
   "cell_type": "code",
   "execution_count": 1,
   "metadata": {},
   "outputs": [
    {
     "name": "stderr",
     "output_type": "stream",
     "text": [
      "C:\\Users\\hp\\AppData\\Local\\Packages\\PythonSoftwareFoundation.Python.3.11_qbz5n2kfra8p0\\LocalCache\\local-packages\\Python311\\site-packages\\tqdm\\auto.py:21: TqdmWarning: IProgress not found. Please update jupyter and ipywidgets. See https://ipywidgets.readthedocs.io/en/stable/user_install.html\n",
      "  from .autonotebook import tqdm as notebook_tqdm\n"
     ]
    }
   ],
   "source": [
    "import numpy as np\n",
    "import os\n",
    "import kagglehub\n",
    "import time\n",
    "import matplotlib.pyplot as plt\n",
    "from tqdm import tqdm"
   ]
  },
  {
   "cell_type": "code",
   "execution_count": 2,
   "metadata": {},
   "outputs": [],
   "source": [
    "from sklearn.metrics import recall_score, f1_score, precision_score\n",
    "from sklearn.model_selection import KFold, train_test_split"
   ]
  },
  {
   "cell_type": "code",
   "execution_count": 3,
   "metadata": {},
   "outputs": [],
   "source": [
    "import torch\n",
    "import torch.nn as nn\n",
    "import torch.nn.functional as F\n",
    "import torch.optim as optim"
   ]
  },
  {
   "cell_type": "code",
   "execution_count": 4,
   "metadata": {},
   "outputs": [],
   "source": [
    "from BGE_Adam import BGE_Adam\n",
    "from training import train\n",
    "from models import LogisticRegressionTorch, SimpleNN, ComplexNN\n",
    "from training_validation import training_validation, Trainer\n",
    "from evaluation import evaluate, evaluate_model\n",
    "from test import Trainer\n",
    "from Cross_Validate_Hyperparams import cross_validate_hyperparams, cross_validate_accuracy"
   ]
  },
  {
   "cell_type": "markdown",
   "metadata": {},
   "source": [
    "# The MNIST database"
   ]
  },
  {
   "cell_type": "code",
   "execution_count": 5,
   "metadata": {},
   "outputs": [
    {
     "name": "stdout",
     "output_type": "stream",
     "text": [
      "Path to dataset files: C:\\Users\\hp\\.cache\\kagglehub\\datasets\\hojjatk\\mnist-dataset\\versions\\1\n"
     ]
    }
   ],
   "source": [
    "# Download latest version\n",
    "path = kagglehub.dataset_download(\"hojjatk/mnist-dataset\")\n",
    "\n",
    "print(\"Path to dataset files:\", path)"
   ]
  },
  {
   "cell_type": "code",
   "execution_count": 6,
   "metadata": {},
   "outputs": [],
   "source": [
    "def load_mnist_images(file_path):\n",
    "    \"\"\"Loads MNIST images from a ubyte file.\"\"\"\n",
    "    with open(file_path, 'rb') as f:\n",
    "        magic_number = int.from_bytes(f.read(4), 'big')  # Magic number\n",
    "        num_images = int.from_bytes(f.read(4), 'big')    # Number of images \n",
    "        num_rows = int.from_bytes(f.read(4), 'big')      # Number of rows per image\n",
    "        num_cols = int.from_bytes(f.read(4), 'big')      # Number of columns per image\n",
    "        images = np.frombuffer(f.read(), dtype=np.uint8).reshape(num_images, num_rows, num_cols)\n",
    "        return images"
   ]
  },
  {
   "cell_type": "code",
   "execution_count": 7,
   "metadata": {},
   "outputs": [],
   "source": [
    "def load_mnist_labels(file_path):\n",
    "    \"\"\"Loads MNIST labels from a ubyte file.\"\"\"\n",
    "    with open(file_path, 'rb') as f:\n",
    "        magic_number = int.from_bytes(f.read(4), 'big')  # Magic number\n",
    "        num_labels = int.from_bytes(f.read(4), 'big')   # Labels number\n",
    "        labels = np.frombuffer(f.read(), dtype=np.uint8)\n",
    "        return labels"
   ]
  },
  {
   "cell_type": "code",
   "execution_count": 8,
   "metadata": {},
   "outputs": [],
   "source": [
    "train_images_path = os.path.join(path, \"train-images.idx3-ubyte\")\n",
    "train_labels_path = os.path.join(path, \"train-labels.idx1-ubyte\")\n",
    "test_images_path = os.path.join(path, \"t10k-images.idx3-ubyte\")\n",
    "test_labels_path = os.path.join(path, \"t10k-labels.idx1-ubyte\")"
   ]
  },
  {
   "cell_type": "code",
   "execution_count": 9,
   "metadata": {},
   "outputs": [],
   "source": [
    "# Loading the data\n",
    "X_train = load_mnist_images(train_images_path)\n",
    "y_train = load_mnist_labels(train_labels_path)\n",
    "X_test = load_mnist_images(test_images_path)\n",
    "y_test = load_mnist_labels(test_labels_path)"
   ]
  },
  {
   "cell_type": "code",
   "execution_count": 10,
   "metadata": {},
   "outputs": [
    {
     "name": "stdout",
     "output_type": "stream",
     "text": [
      "X_train shape: (60000, 784), y_train shape: (60000, 10)\n",
      "X_test shape: (10000, 784), y_test shape: (10000, 10)\n"
     ]
    }
   ],
   "source": [
    "# Data preprocessing\n",
    "# Flatten and normalize images\n",
    "X_train = X_train.reshape(X_train.shape[0], -1) / 255.0\n",
    "X_test = X_test.reshape(X_test.shape[0], -1) / 255.0\n",
    "\n",
    "# Convert labels to One-Hot Encoding\n",
    "from sklearn.preprocessing import OneHotEncoder\n",
    "\n",
    "y_train = y_train.reshape(-1, 1)\n",
    "y_test = y_test.reshape(-1, 1)\n",
    "\n",
    "encoder = OneHotEncoder(sparse_output=False)\n",
    "y_train = encoder.fit_transform(y_train)\n",
    "y_test = encoder.transform(y_test)\n",
    "\n",
    "# Check new shapes\n",
    "print(f\"X_train shape: {X_train.shape}, y_train shape: {y_train.shape}\")\n",
    "print(f\"X_test shape: {X_test.shape}, y_test shape: {y_test.shape}\")"
   ]
  },
  {
   "cell_type": "code",
   "execution_count": 11,
   "metadata": {},
   "outputs": [
    {
     "name": "stdout",
     "output_type": "stream",
     "text": [
      "X_train shape: torch.Size([48000, 784]), y_train shape: torch.Size([48000])\n",
      "X_valid shape: torch.Size([12000, 784]), y_valid shape: torch.Size([12000])\n",
      "X_test shape: torch.Size([10000, 784]), y_test shape: torch.Size([10000])\n"
     ]
    }
   ],
   "source": [
    "# Choose of the ratio for the validation set\n",
    "validation_ratio = 0.2\n",
    "\n",
    "# Split the training set into training and validation sets\n",
    "X_train, X_valid, y_train, y_valid = train_test_split(\n",
    "    X_train, y_train, test_size=validation_ratio, random_state=42\n",
    ")\n",
    "\n",
    "# Convert to PyTorch tensors\n",
    "X_train_tensor = torch.tensor(X_train, dtype=torch.float32)\n",
    "y_train_tensor = torch.tensor(np.argmax(y_train, axis=1), dtype=torch.long)\n",
    "\n",
    "X_valid_tensor = torch.tensor(X_valid, dtype=torch.float32)\n",
    "y_valid_tensor = torch.tensor(np.argmax(y_valid, axis=1), dtype=torch.long)\n",
    "\n",
    "X_test_tensor = torch.tensor(X_test, dtype=torch.float32)\n",
    "y_test_tensor = torch.tensor(np.argmax(y_test, axis=1), dtype=torch.long)\n",
    "\n",
    "# Check the shapes\n",
    "print(f\"X_train shape: {X_train_tensor.shape}, y_train shape: {y_train_tensor.shape}\")\n",
    "print(f\"X_valid shape: {X_valid_tensor.shape}, y_valid shape: {y_valid_tensor.shape}\")\n",
    "print(f\"X_test shape: {X_test_tensor.shape}, y_test shape: {y_test_tensor.shape}\")\n"
   ]
  },
  {
   "cell_type": "markdown",
   "metadata": {},
   "source": [
    "Without validation dataset:\n",
    "\n",
    "\\#Convert data into PyTorch tensors\n",
    "\n",
    "X_train_tensor = torch.tensor(X_train, dtype=torch.float32)\n",
    "\n",
    "y_train_tensor = torch.tensor(np.argmax(y_train, axis=1), dtype=torch.long)  \n",
    "\n",
    "X_test_tensor = torch.tensor(X_test, dtype=torch.float32)\n",
    "\n",
    "y_test_tensor = torch.tensor(np.argmax(y_test, axis=1), dtype=torch.long)"
   ]
  },
  {
   "cell_type": "code",
   "execution_count": 12,
   "metadata": {},
   "outputs": [
    {
     "data": {
      "image/png": "[encoded data removed]",
      "text/plain": [
       "<Figure size 1500x500 with 5 Axes>"
      ]
     },
     "metadata": {},
     "output_type": "display_data"
    }
   ],
   "source": [
    "# Visualize some images\n",
    "def plot_mnist_images(X, y, num_images=5):\n",
    "    fig, axes = plt.subplots(1, num_images, figsize=(15, 5))\n",
    "    for i in range(num_images):\n",
    "        img = X[i].view(28, 28).detach().numpy()  # Reshape the image to 28x28\n",
    "        label = y[i].item()\n",
    "        axes[i].imshow(img, cmap='gray')\n",
    "        axes[i].set_title(f'Label: {label}')\n",
    "        axes[i].axis('off')\n",
    "    plt.show()\n",
    "\n",
    "# Call the function to plot the images\n",
    "plot_mnist_images(X_valid_tensor, y_valid_tensor)"
   ]
  },
  {
   "cell_type": "code",
   "execution_count": null,
   "metadata": {},
   "outputs": [
    {
     "name": "stdout",
     "output_type": "stream",
     "text": [
      "Total number of training examples : 48000\n",
      "Total number of validation examples : 12000\n",
      "Total number of test examples : 10000\n",
      "Shape of the images : 784 (28x28 pixels)\n",
      "Number of classes : 10\n"
     ]
    }
   ],
   "source": [
    "print(f\"Total number of training examples : {X_train.shape[0]}\")\n",
    "print(f\"Total number of validation examples : {X_valid.shape[0]}\")\n",
    "print(f\"Total number of test examples : {X_test.shape[0]}\")\n",
    "print(f\"Shape of the images : {X_train.shape[1]} (28x28 pixels)\")\n",
    "print(f\"Number of classes : {len(torch.unique(y_train_tensor))}\")"
   ]
  },
  {
   "cell_type": "code",
   "execution_count": 14,
   "metadata": {},
   "outputs": [
    {
     "name": "stdout",
     "output_type": "stream",
     "text": [
      "Minimal value of the pixels : 0.0\n",
      "Maximal value of the pixels : 1.0\n",
      "Average of the pixels : 0.13074526190757751\n",
      "Standard-error of the pixels : 0.30821332335472107\n"
     ]
    }
   ],
   "source": [
    "# Simple statistics on the dataset\n",
    "print(f\"Minimal value of the pixels : {X_train_tensor.min().item()}\")\n",
    "print(f\"Maximal value of the pixels : {X_train_tensor.max().item()}\")\n",
    "print(f\"Average of the pixels : {X_train_tensor.float().mean().item()}\")\n",
    "print(f\"Standard-error of the pixels : {X_train_tensor.float().std().item()}\")"
   ]
  },
  {
   "cell_type": "markdown",
   "metadata": {},
   "source": [
    "# Search of the optimal hyperparameters"
   ]
  },
  {
   "cell_type": "code",
   "execution_count": 17,
   "metadata": {},
   "outputs": [],
   "source": [
    "input_dim = X_train_tensor.shape[1]\n",
    "num_classes = len(torch.unique(y_train_tensor))"
   ]
  },
  {
   "cell_type": "code",
   "execution_count": 18,
   "metadata": {},
   "outputs": [],
   "source": [
    "# Combine training and validation for final training\n",
    "X_combined = torch.cat([X_train_tensor, X_valid_tensor], dim=0)\n",
    "y_combined = torch.cat([y_train_tensor, y_valid_tensor], dim=0)"
   ]
  },
  {
   "cell_type": "code",
   "execution_count": 19,
   "metadata": {},
   "outputs": [
    {
     "name": "stderr",
     "output_type": "stream",
     "text": [
      "Search of the hyperparameters: 100%|██████████| 10/10 [00:15<00:00,  1.59s/it]\n",
      "Search of the hyperparameters: 100%|██████████| 10/10 [00:14<00:00,  1.49s/it]0s/it]\n",
      "Search of the hyperparameters: 100%|██████████| 10/10 [00:27<00:00,  2.74s/it]6s/it]\n",
      "Search of the hyperparameters: 100%|██████████| 10/10 [00:24<00:00,  2.48s/it]7s/it]\n",
      "Search of the hyperparameters: 100%|██████████| 10/10 [01:01<00:00,  6.13s/it]2s/it]\n",
      "Search of the hyperparameters: 100%|██████████| 10/10 [00:56<00:00,  5.61s/it]6s/it]\n",
      "Global search of the hyperparamèeters: 100%|██████████| 6/6 [03:20<00:00, 33.44s/it]\n",
      "Cross validation: 100%|██████████| 10/10 [00:38<00:00,  3.82s/it]\n",
      "Cross validation: 100%|██████████| 10/10 [00:30<00:00,  3.05s/it]\n",
      "Cross validation: 100%|██████████| 10/10 [01:02<00:00,  6.24s/it]\n",
      "Cross validation: 100%|██████████| 10/10 [00:56<00:00,  5.62s/it]\n",
      "Cross validation: 100%|██████████| 10/10 [02:04<00:00, 12.43s/it]\n",
      "Cross validation: 100%|██████████| 10/10 [02:01<00:00, 12.15s/it]\n",
      "Global validation: 100%|██████████| 6/6 [07:13<00:00, 72.22s/it]"
     ]
    },
    {
     "name": "stdout",
     "output_type": "stream",
     "text": [
      "Table 1 : Hyperparameters\n",
      "{'LogisticRegression_Adam': {'lr': 0.001, 'betas': (0.9, 0.999)}, 'LogisticRegression_SGD': {'lr': 0.01, 'momentum': 0.9}, 'SimpleNN_Adam': {'lr': 0.001, 'betas': (0.9, 0.999)}, 'SimpleNN_SGD': {'lr': 0.01, 'momentum': 0.9}, 'ComplexNN_Adam': {'lr': 0.001, 'betas': (0.9, 0.999)}, 'ComplexNN_SGD': {'lr': 0.01, 'momentum': 0.9}}\n",
      "\n",
      "Table 2 : Average accuracy\n",
      "{'LogisticRegression_Adam': 0.6228833377361298, 'LogisticRegression_SGD': 0.6105333268642426, 'SimpleNN_Adam': 0.665666651725769, 'SimpleNN_SGD': 0.26158333420753477, 'ComplexNN_Adam': 0.39226666986942293, 'ComplexNN_SGD': 0.10636666715145111}\n"
     ]
    },
    {
     "name": "stderr",
     "output_type": "stream",
     "text": [
      "\n"
     ]
    }
   ],
   "source": [
    "models = {\n",
    "    'LogisticRegression': LogisticRegressionTorch,\n",
    "    'SimpleNN': SimpleNN,\n",
    "    'ComplexNN': ComplexNN\n",
    "}\n",
    "\n",
    "optimizers = {\n",
    "    'Adam': torch.optim.Adam,\n",
    "    'SGD': torch.optim.SGD\n",
    "}\n",
    "\n",
    "hyperparams = {\n",
    "    'Adam': [{'lr': 0.001, 'betas': (0.9, 0.999)}, {'lr': 0.0005, 'betas': (0.85, 0.995)}],\n",
    "    'SGD': [{'lr': 0.01, 'momentum': 0.9}, {'lr': 0.005, 'momentum': 0.95}]\n",
    "}\n",
    "\n",
    "# Table 1 : Hyperparameters (cross-entropy loss)\n",
    "hyperparams_results = {}\n",
    "with tqdm(total=len(models) * len(optimizers), desc=\"Global search of the hyperparamèeters\") as pbar:\n",
    "    for model_name, model_class in models.items():\n",
    "        for opt_name, opt_class in optimizers.items():\n",
    "            best_params, _ = cross_validate_hyperparams(\n",
    "                model_class, opt_class, X_combined, y_combined, hyperparams[opt_name], input_dim, num_classes\n",
    "            )\n",
    "            hyperparams_results[f'{model_name}_{opt_name}'] = best_params\n",
    "            pbar.update(1)\n",
    "\n",
    "# Table 2 : Average accuracy (rate of correct predictions)\n",
    "accuracy_results = {}\n",
    "with tqdm(total=len(models) * len(optimizers), desc=\"Global validation\") as pbar:\n",
    "    for model_name, model_class in models.items():\n",
    "        for opt_name, opt_class in optimizers.items():\n",
    "            accuracy = cross_validate_accuracy(\n",
    "                model_class, opt_class, X_combined, y_combined, hyperparams_results[f'{model_name}_{opt_name}'], input_dim, num_classes\n",
    "            )\n",
    "            accuracy_results[f'{model_name}_{opt_name}'] = accuracy\n",
    "            pbar.update(1)\n",
    "\n",
    "# Affichage des résultats\n",
    "print(\"Table 1 : Hyperparameters\")\n",
    "print(hyperparams_results)\n",
    "print(\"\\nTable 2 : Average accuracy\")\n",
    "print(accuracy_results)"
   ]
  },
  {
   "cell_type": "code",
   "execution_count": 15,
   "metadata": {},
   "outputs": [],
   "source": [
    "hyperparams_results = {'LogisticRegression_Adam': {'lr': 0.001, 'betas': (0.9, 0.999)}, 'LogisticRegression_SGD': {'lr': 0.01, 'momentum': 0.9}, 'SimpleNN_Adam': {'lr': 0.001, 'betas': (0.9, 0.999)}, 'SimpleNN_SGD': {'lr': 0.01, 'momentum': 0.9}, 'ComplexNN_Adam': {'lr': 0.001, 'betas': (0.9, 0.999)}, 'ComplexNN_SGD': {'lr': 0.01, 'momentum': 0.9}}\n",
    "accuracy_results = {'LogisticRegression_Adam': 0.6228833377361298, 'LogisticRegression_SGD': 0.6105333268642426, 'SimpleNN_Adam': 0.665666651725769, 'SimpleNN_SGD': 0.26158333420753477, 'ComplexNN_Adam': 0.39226666986942293, 'ComplexNN_SGD': 0.10636666715145111}"
   ]
  },
  {
   "cell_type": "markdown",
   "metadata": {},
   "source": [
    "# Logistic regression"
   ]
  },
  {
   "cell_type": "markdown",
   "metadata": {},
   "source": [
    "### Training with validation"
   ]
  },
  {
   "cell_type": "code",
   "execution_count": 35,
   "metadata": {},
   "outputs": [
    {
     "name": "stdout",
     "output_type": "stream",
     "text": [
      "Epoch 1/20, Train Loss: 0.3724, Val Loss: 0.3179, Val Accuracy: 0.9128\n",
      "Epoch 2/20, Train Loss: 0.3221, Val Loss: 0.3323, Val Accuracy: 0.9160\n",
      "Epoch 3/20, Train Loss: 0.3157, Val Loss: 0.3611, Val Accuracy: 0.9058\n",
      "Epoch 4/20, Train Loss: 0.3184, Val Loss: 0.3419, Val Accuracy: 0.9116\n",
      "Epoch 5/20, Train Loss: 0.3158, Val Loss: 0.3429, Val Accuracy: 0.9166\n",
      "Epoch 6/20, Train Loss: 0.3164, Val Loss: 0.3491, Val Accuracy: 0.9172\n",
      "Epoch 7/20, Train Loss: 0.3168, Val Loss: 0.3589, Val Accuracy: 0.9163\n",
      "Epoch 8/20, Train Loss: 0.3156, Val Loss: 0.3643, Val Accuracy: 0.9169\n",
      "Epoch 9/20, Train Loss: 0.3153, Val Loss: 0.3696, Val Accuracy: 0.9158\n",
      "Epoch 10/20, Train Loss: 0.3187, Val Loss: 0.3929, Val Accuracy: 0.9097\n",
      "Epoch 11/20, Train Loss: 0.3169, Val Loss: 0.3731, Val Accuracy: 0.9132\n",
      "Epoch 12/20, Train Loss: 0.3167, Val Loss: 0.3991, Val Accuracy: 0.9083\n",
      "Epoch 13/20, Train Loss: 0.3183, Val Loss: 0.3801, Val Accuracy: 0.9168\n",
      "Epoch 14/20, Train Loss: 0.3195, Val Loss: 0.3732, Val Accuracy: 0.9151\n",
      "Epoch 15/20, Train Loss: 0.3175, Val Loss: 0.3911, Val Accuracy: 0.9148\n",
      "Epoch 16/20, Train Loss: 0.3207, Val Loss: 0.3765, Val Accuracy: 0.9201\n",
      "Epoch 17/20, Train Loss: 0.3176, Val Loss: 0.4086, Val Accuracy: 0.9096\n",
      "Epoch 18/20, Train Loss: 0.3194, Val Loss: 0.3889, Val Accuracy: 0.9167\n",
      "Epoch 19/20, Train Loss: 0.3162, Val Loss: 0.3950, Val Accuracy: 0.9149\n",
      "Epoch 20/20, Train Loss: 0.3197, Val Loss: 0.4001, Val Accuracy: 0.9159\n",
      "Training completed.\n",
      "Final Validation Accuracy: 0.9159\n"
     ]
    }
   ],
   "source": [
    "# Model parameters\n",
    "input_dim = X_train.shape[1]  # 784\n",
    "num_classes = y_train.shape[1]  # 10\n",
    "\n",
    "# Initializing the model, optimizer and loss function\n",
    "model = LogisticRegressionTorch(input_dim, num_classes)\n",
    "optimizer = BGE_Adam(model.parameters(), lr=0.01)\n",
    "criterion = nn.CrossEntropyLoss()\n",
    "\n",
    "# Training and validation\n",
    "train_losses, val_losses, val_accuracies = training_validation(model, optimizer, criterion, X_train_tensor, y_train_tensor, X_valid_tensor, y_valid_tensor, \n",
    "                         epochs=20, batch_size=64)\n",
    "\n",
    "# Final results\n",
    "print(\"Training completed.\")\n",
    "print(f\"Final Validation Accuracy: {val_accuracies[-1]:.4f}\")\n"
   ]
  },
  {
   "cell_type": "code",
   "execution_count": 175,
   "metadata": {},
   "outputs": [
    {
     "name": "stdout",
     "output_type": "stream",
     "text": [
      "Test Accuracy: 0.9163\n"
     ]
    }
   ],
   "source": [
    "accuracy = evaluate_model(model, X_test_tensor, y_test_tensor)\n",
    "print(f\"Test Accuracy: {accuracy:.4f}\")"
   ]
  },
  {
   "cell_type": "code",
   "execution_count": 176,
   "metadata": {},
   "outputs": [
    {
     "name": "stdout",
     "output_type": "stream",
     "text": [
      "Test Accuracy: 0.9163\n"
     ]
    }
   ],
   "source": [
    "evaluate(model, X_test_tensor, y_test_tensor)"
   ]
  },
  {
   "cell_type": "code",
   "execution_count": 179,
   "metadata": {},
   "outputs": [
    {
     "name": "stdout",
     "output_type": "stream",
     "text": [
      "Epoch 1/20, Train Loss: 0.3217, Val Loss: 0.4223, Val Accuracy: 0.9047\n",
      "Epoch 2/20, Train Loss: 0.3056, Val Loss: 0.3934, Val Accuracy: 0.9095\n",
      "Epoch 3/20, Train Loss: 0.2963, Val Loss: 0.3819, Val Accuracy: 0.9080\n",
      "Epoch 4/20, Train Loss: 0.2892, Val Loss: 0.3767, Val Accuracy: 0.9086\n",
      "Epoch 5/20, Train Loss: 0.2860, Val Loss: 0.3764, Val Accuracy: 0.9119\n",
      "Epoch 6/20, Train Loss: 0.2866, Val Loss: 0.3998, Val Accuracy: 0.9013\n",
      "Epoch 7/20, Train Loss: 0.2817, Val Loss: 0.3729, Val Accuracy: 0.9112\n",
      "Epoch 8/20, Train Loss: 0.2792, Val Loss: 0.3564, Val Accuracy: 0.9158\n",
      "Epoch 9/20, Train Loss: 0.2811, Val Loss: 0.3688, Val Accuracy: 0.9113\n",
      "Epoch 10/20, Train Loss: 0.2769, Val Loss: 0.3607, Val Accuracy: 0.9135\n",
      "Epoch 11/20, Train Loss: 0.2722, Val Loss: 0.3775, Val Accuracy: 0.9065\n",
      "Epoch 12/20, Train Loss: 0.2734, Val Loss: 0.3756, Val Accuracy: 0.9076\n",
      "Epoch 13/20, Train Loss: 0.2714, Val Loss: 0.3737, Val Accuracy: 0.9110\n",
      "Epoch 14/20, Train Loss: 0.2676, Val Loss: 0.3692, Val Accuracy: 0.9112\n",
      "Epoch 15/20, Train Loss: 0.2699, Val Loss: 0.3770, Val Accuracy: 0.9077\n",
      "Epoch 16/20, Train Loss: 0.2708, Val Loss: 0.3874, Val Accuracy: 0.9053\n",
      "Epoch 17/20, Train Loss: 0.2698, Val Loss: 0.3709, Val Accuracy: 0.9135\n",
      "Epoch 18/20, Train Loss: 0.2682, Val Loss: 0.3673, Val Accuracy: 0.9137\n",
      "Epoch 19/20, Train Loss: 0.2683, Val Loss: 0.3659, Val Accuracy: 0.9141\n",
      "Epoch 20/20, Train Loss: 0.2708, Val Loss: 0.3699, Val Accuracy: 0.9091\n",
      "Training completed.\n",
      "Final Validation Accuracy: 0.9091\n",
      "Test Accuracy: 0.9146\n"
     ]
    }
   ],
   "source": [
    "optimizer = torch.optim.Adam(model.parameters(), lr=0.01)\n",
    "\n",
    "# Training and validation\n",
    "train_losses, val_losses, val_accuracies = training_validation(model, optimizer, criterion, X_train_tensor, y_train_tensor, X_valid_tensor, y_valid_tensor, \n",
    "                         epochs=20, batch_size=64)\n",
    "\n",
    "# Final results\n",
    "print(\"Training completed.\")\n",
    "print(f\"Final Validation Accuracy: {val_accuracies[-1]:.4f}\")\n",
    "\n",
    "accuracy = evaluate_model(model, X_test_tensor, y_test_tensor)\n",
    "print(f\"Test Accuracy: {accuracy:.4f}\")"
   ]
  },
  {
   "cell_type": "code",
   "execution_count": 180,
   "metadata": {},
   "outputs": [
    {
     "name": "stdout",
     "output_type": "stream",
     "text": [
      "Epoch 1/20, Train Loss: 0.2253, Val Loss: 0.3469, Val Accuracy: 0.9162\n",
      "Epoch 2/20, Train Loss: 0.2202, Val Loss: 0.3445, Val Accuracy: 0.9164\n",
      "Epoch 3/20, Train Loss: 0.2182, Val Loss: 0.3428, Val Accuracy: 0.9172\n",
      "Epoch 4/20, Train Loss: 0.2167, Val Loss: 0.3415, Val Accuracy: 0.9179\n",
      "Epoch 5/20, Train Loss: 0.2154, Val Loss: 0.3407, Val Accuracy: 0.9178\n",
      "Epoch 6/20, Train Loss: 0.2144, Val Loss: 0.3400, Val Accuracy: 0.9182\n",
      "Epoch 7/20, Train Loss: 0.2136, Val Loss: 0.3392, Val Accuracy: 0.9186\n",
      "Epoch 8/20, Train Loss: 0.2129, Val Loss: 0.3388, Val Accuracy: 0.9184\n",
      "Epoch 9/20, Train Loss: 0.2123, Val Loss: 0.3385, Val Accuracy: 0.9193\n",
      "Epoch 10/20, Train Loss: 0.2118, Val Loss: 0.3382, Val Accuracy: 0.9197\n",
      "Epoch 11/20, Train Loss: 0.2113, Val Loss: 0.3378, Val Accuracy: 0.9196\n",
      "Epoch 12/20, Train Loss: 0.2110, Val Loss: 0.3374, Val Accuracy: 0.9196\n",
      "Epoch 13/20, Train Loss: 0.2106, Val Loss: 0.3372, Val Accuracy: 0.9200\n",
      "Epoch 14/20, Train Loss: 0.2103, Val Loss: 0.3373, Val Accuracy: 0.9193\n",
      "Epoch 15/20, Train Loss: 0.2100, Val Loss: 0.3371, Val Accuracy: 0.9196\n",
      "Epoch 16/20, Train Loss: 0.2097, Val Loss: 0.3369, Val Accuracy: 0.9194\n",
      "Epoch 17/20, Train Loss: 0.2094, Val Loss: 0.3368, Val Accuracy: 0.9202\n",
      "Epoch 18/20, Train Loss: 0.2092, Val Loss: 0.3365, Val Accuracy: 0.9204\n",
      "Epoch 19/20, Train Loss: 0.2090, Val Loss: 0.3367, Val Accuracy: 0.9197\n",
      "Epoch 20/20, Train Loss: 0.2088, Val Loss: 0.3365, Val Accuracy: 0.9196\n",
      "Training completed.\n",
      "Final Validation Accuracy: 0.9196\n",
      "Test Accuracy: 0.9224\n"
     ]
    }
   ],
   "source": [
    "optimizer = torch.optim.SGD(model.parameters(), lr=0.01)\n",
    "\n",
    "# Training and validation\n",
    "train_losses, val_losses, val_accuracies = training_validation(model, optimizer, criterion, X_train_tensor, y_train_tensor, X_valid_tensor, y_valid_tensor, \n",
    "                         epochs=20, batch_size=64)\n",
    "\n",
    "# Final results\n",
    "print(\"Training completed.\")\n",
    "print(f\"Final Validation Accuracy: {val_accuracies[-1]:.4f}\")\n",
    "\n",
    "accuracy = evaluate_model(model, X_test_tensor, y_test_tensor)\n",
    "print(f\"Test Accuracy: {accuracy:.4f}\")"
   ]
  },
  {
   "cell_type": "code",
   "execution_count": 34,
   "metadata": {},
   "outputs": [
    {
     "ename": "TypeError",
     "evalue": "Trainer.compare_optimizers() got an unexpected keyword argument 'hyperparams_results'",
     "output_type": "error",
     "traceback": [
      "\u001b[1;31m---------------------------------------------------------------------------\u001b[0m",
      "\u001b[1;31mTypeError\u001b[0m                                 Traceback (most recent call last)",
      "Cell \u001b[1;32mIn[34], line 24\u001b[0m\n\u001b[0;32m     13\u001b[0m trainer \u001b[38;5;241m=\u001b[39m Trainer(\n\u001b[0;32m     14\u001b[0m     model_class\u001b[38;5;241m=\u001b[39mLogisticRegressionTorch,\n\u001b[0;32m     15\u001b[0m     input_dim\u001b[38;5;241m=\u001b[39minput_dim,\n\u001b[1;32m   (...)\u001b[0m\n\u001b[0;32m     20\u001b[0m     batch_size\u001b[38;5;241m=\u001b[39m\u001b[38;5;241m64\u001b[39m\n\u001b[0;32m     21\u001b[0m )\n\u001b[0;32m     23\u001b[0m \u001b[38;5;66;03m# Comparaison des optimiseurs\u001b[39;00m\n\u001b[1;32m---> 24\u001b[0m results \u001b[38;5;241m=\u001b[39m \u001b[43mtrainer\u001b[49m\u001b[38;5;241;43m.\u001b[39;49m\u001b[43mcompare_optimizers\u001b[49m\u001b[43m(\u001b[49m\n\u001b[0;32m     25\u001b[0m \u001b[43m    \u001b[49m\u001b[43mX_train\u001b[49m\u001b[38;5;241;43m=\u001b[39;49m\u001b[43mX_train_tensor\u001b[49m\u001b[43m,\u001b[49m\u001b[43m \u001b[49m\n\u001b[0;32m     26\u001b[0m \u001b[43m    \u001b[49m\u001b[43my_train\u001b[49m\u001b[38;5;241;43m=\u001b[39;49m\u001b[43my_train_tensor\u001b[49m\u001b[43m,\u001b[49m\u001b[43m \u001b[49m\n\u001b[0;32m     27\u001b[0m \u001b[43m    \u001b[49m\u001b[43mX_valid\u001b[49m\u001b[38;5;241;43m=\u001b[39;49m\u001b[43mX_valid_tensor\u001b[49m\u001b[43m,\u001b[49m\u001b[43m \u001b[49m\n\u001b[0;32m     28\u001b[0m \u001b[43m    \u001b[49m\u001b[43my_valid\u001b[49m\u001b[38;5;241;43m=\u001b[39;49m\u001b[43my_valid_tensor\u001b[49m\u001b[43m,\u001b[49m\n\u001b[0;32m     29\u001b[0m \u001b[43m    \u001b[49m\u001b[43mhyperparams_results\u001b[49m\u001b[38;5;241;43m=\u001b[39;49m\u001b[43mhyperparams_results\u001b[49m\n\u001b[0;32m     30\u001b[0m \u001b[43m)\u001b[49m\n",
      "\u001b[1;31mTypeError\u001b[0m: Trainer.compare_optimizers() got an unexpected keyword argument 'hyperparams_results'"
     ]
    }
   ],
   "source": [
    "# Données\n",
    "input_dim = X_train_tensor.shape[1]\n",
    "num_classes = len(torch.unique(y_train_tensor))\n",
    "\n",
    "# Liste des optimiseurs\n",
    "optimizers = {\n",
    "    'SGD': torch.optim.SGD,\n",
    "    'Adam': torch.optim.Adam,\n",
    "    'BGE_Adam': BGE_Adam\n",
    "}\n",
    "\n",
    "# Création de l'objet Trainer\n",
    "trainer = Trainer(\n",
    "    model_class=LogisticRegressionTorch,\n",
    "    input_dim=input_dim,\n",
    "    num_classes=num_classes,\n",
    "    criterion=torch.nn.CrossEntropyLoss(),\n",
    "    optimizers=optimizers,\n",
    "    epochs=20,\n",
    "    batch_size=64\n",
    ")\n",
    "\n",
    "# Comparaison des optimiseurs\n",
    "results = trainer.compare_optimizers(\n",
    "    X_train=X_train_tensor, \n",
    "    y_train=y_train_tensor, \n",
    "    X_valid=X_valid_tensor, \n",
    "    y_valid=y_valid_tensor,\n",
    "    hyperparams_results=hyperparams_results\n",
    ")"
   ]
  },
  {
   "cell_type": "markdown",
   "metadata": {},
   "source": [
    "# Simple neural network"
   ]
  },
  {
   "cell_type": "markdown",
   "metadata": {},
   "source": [
    "## BGE-Adam optimizer"
   ]
  },
  {
   "cell_type": "code",
   "execution_count": 181,
   "metadata": {},
   "outputs": [],
   "source": [
    "# Model parameters\n",
    "input_dim = X_train.shape[1]  # 784\n",
    "num_classes = y_train.shape[1]  # 10\n",
    "\n",
    "# Initializing the model, optimizer and loss function\n",
    "model = SimpleNN(input_dim, num_classes)\n",
    "optimizer = BGE_Adam(model.parameters(), lr=0.01)\n",
    "criterion = nn.CrossEntropyLoss()  # Cross-entropy loss"
   ]
  },
  {
   "cell_type": "code",
   "execution_count": 182,
   "metadata": {},
   "outputs": [
    {
     "name": "stdout",
     "output_type": "stream",
     "text": [
      "Epoch 1/20, Train Loss: 0.2626, Val Loss: 0.1622, Val Accuracy: 0.9533\n",
      "Epoch 2/20, Train Loss: 0.1522, Val Loss: 0.1441, Val Accuracy: 0.9631\n",
      "Epoch 3/20, Train Loss: 0.1303, Val Loss: 0.1789, Val Accuracy: 0.9611\n",
      "Epoch 4/20, Train Loss: 0.1234, Val Loss: 0.2056, Val Accuracy: 0.9622\n",
      "Epoch 5/20, Train Loss: 0.1133, Val Loss: 0.1950, Val Accuracy: 0.9650\n",
      "Epoch 6/20, Train Loss: 0.0999, Val Loss: 0.2341, Val Accuracy: 0.9631\n",
      "Epoch 7/20, Train Loss: 0.1016, Val Loss: 0.2556, Val Accuracy: 0.9657\n",
      "Epoch 8/20, Train Loss: 0.0908, Val Loss: 0.2644, Val Accuracy: 0.9654\n",
      "Epoch 9/20, Train Loss: 0.0884, Val Loss: 0.2462, Val Accuracy: 0.9645\n",
      "Epoch 10/20, Train Loss: 0.0880, Val Loss: 0.3142, Val Accuracy: 0.9638\n",
      "Epoch 11/20, Train Loss: 0.0804, Val Loss: 0.3475, Val Accuracy: 0.9651\n",
      "Epoch 12/20, Train Loss: 0.0760, Val Loss: 0.3100, Val Accuracy: 0.9679\n",
      "Epoch 13/20, Train Loss: 0.0720, Val Loss: 0.3348, Val Accuracy: 0.9669\n",
      "Epoch 14/20, Train Loss: 0.0710, Val Loss: 0.3381, Val Accuracy: 0.9654\n",
      "Epoch 15/20, Train Loss: 0.0706, Val Loss: 0.3771, Val Accuracy: 0.9633\n",
      "Epoch 16/20, Train Loss: 0.0647, Val Loss: 0.3922, Val Accuracy: 0.9638\n",
      "Epoch 17/20, Train Loss: 0.0564, Val Loss: 0.4662, Val Accuracy: 0.9622\n",
      "Epoch 18/20, Train Loss: 0.0584, Val Loss: 0.4395, Val Accuracy: 0.9628\n",
      "Epoch 19/20, Train Loss: 0.0607, Val Loss: 0.4300, Val Accuracy: 0.9684\n",
      "Epoch 20/20, Train Loss: 0.0603, Val Loss: 0.4481, Val Accuracy: 0.9661\n",
      "Training completed.\n",
      "Final Validation Accuracy: 0.9661\n",
      "Test Accuracy: 0.9655\n"
     ]
    }
   ],
   "source": [
    "# Training and validation\n",
    "train_losses, val_losses, val_accuracies = training_validation(model, optimizer, criterion, X_train_tensor, y_train_tensor, X_valid_tensor, y_valid_tensor, \n",
    "                         epochs=20, batch_size=64)\n",
    "\n",
    "# Final results\n",
    "print(\"Training completed.\")\n",
    "print(f\"Final Validation Accuracy: {val_accuracies[-1]:.4f}\")\n",
    "\n",
    "accuracy = evaluate_model(model, X_test_tensor, y_test_tensor)\n",
    "print(f\"Test Accuracy: {accuracy:.4f}\")"
   ]
  },
  {
   "cell_type": "markdown",
   "metadata": {},
   "source": [
    "## Adam optimizer"
   ]
  },
  {
   "cell_type": "code",
   "execution_count": 183,
   "metadata": {},
   "outputs": [
    {
     "name": "stdout",
     "output_type": "stream",
     "text": [
      "Epoch 1/20, Train Loss: 0.1125, Val Loss: 0.4802, Val Accuracy: 0.9594\n",
      "Epoch 2/20, Train Loss: 0.1015, Val Loss: 0.4549, Val Accuracy: 0.9607\n",
      "Epoch 3/20, Train Loss: 0.0943, Val Loss: 0.4435, Val Accuracy: 0.9603\n",
      "Epoch 4/20, Train Loss: 0.0917, Val Loss: 0.4327, Val Accuracy: 0.9628\n",
      "Epoch 5/20, Train Loss: 0.0836, Val Loss: 0.4914, Val Accuracy: 0.9605\n",
      "Epoch 6/20, Train Loss: 0.0758, Val Loss: 0.4392, Val Accuracy: 0.9656\n",
      "Epoch 7/20, Train Loss: 0.0744, Val Loss: 0.4779, Val Accuracy: 0.9653\n",
      "Epoch 8/20, Train Loss: 0.0701, Val Loss: 0.4651, Val Accuracy: 0.9632\n",
      "Epoch 9/20, Train Loss: 0.0723, Val Loss: 0.4906, Val Accuracy: 0.9614\n",
      "Epoch 10/20, Train Loss: 0.0701, Val Loss: 0.4938, Val Accuracy: 0.9641\n",
      "Epoch 11/20, Train Loss: 0.0695, Val Loss: 0.4435, Val Accuracy: 0.9670\n",
      "Epoch 12/20, Train Loss: 0.0529, Val Loss: 0.4722, Val Accuracy: 0.9638\n",
      "Epoch 13/20, Train Loss: 0.0716, Val Loss: 0.5219, Val Accuracy: 0.9663\n",
      "Epoch 14/20, Train Loss: 0.0636, Val Loss: 0.4924, Val Accuracy: 0.9653\n",
      "Epoch 15/20, Train Loss: 0.0666, Val Loss: 0.5573, Val Accuracy: 0.9657\n",
      "Epoch 16/20, Train Loss: 0.0536, Val Loss: 0.5415, Val Accuracy: 0.9664\n",
      "Epoch 17/20, Train Loss: 0.0646, Val Loss: 0.5269, Val Accuracy: 0.9680\n",
      "Epoch 18/20, Train Loss: 0.0560, Val Loss: 0.4887, Val Accuracy: 0.9679\n",
      "Epoch 19/20, Train Loss: 0.0549, Val Loss: 0.5411, Val Accuracy: 0.9683\n",
      "Epoch 20/20, Train Loss: 0.0591, Val Loss: 0.5874, Val Accuracy: 0.9661\n",
      "Training completed.\n",
      "Final Validation Accuracy: 0.9661\n",
      "Test Accuracy: 0.9667\n"
     ]
    }
   ],
   "source": [
    "optimizer = torch.optim.Adam(model.parameters(), lr=0.01)\n",
    "\n",
    "# Training and validation\n",
    "train_losses, val_losses, val_accuracies = training_validation(model, optimizer, criterion, X_train_tensor, y_train_tensor, X_valid_tensor, y_valid_tensor, \n",
    "                         epochs=20, batch_size=64)\n",
    "\n",
    "# Final results\n",
    "print(\"Training completed.\")\n",
    "print(f\"Final Validation Accuracy: {val_accuracies[-1]:.4f}\")\n",
    "\n",
    "accuracy = evaluate_model(model, X_test_tensor, y_test_tensor)\n",
    "print(f\"Test Accuracy: {accuracy:.4f}\")"
   ]
  },
  {
   "cell_type": "markdown",
   "metadata": {},
   "source": [
    "## SGD optimizer"
   ]
  },
  {
   "cell_type": "code",
   "execution_count": 184,
   "metadata": {},
   "outputs": [
    {
     "name": "stdout",
     "output_type": "stream",
     "text": [
      "Epoch 1/20, Train Loss: 0.0318, Val Loss: 0.5344, Val Accuracy: 0.9686\n",
      "Epoch 2/20, Train Loss: 0.0226, Val Loss: 0.5216, Val Accuracy: 0.9692\n",
      "Epoch 3/20, Train Loss: 0.0187, Val Loss: 0.5144, Val Accuracy: 0.9697\n",
      "Epoch 4/20, Train Loss: 0.0162, Val Loss: 0.5098, Val Accuracy: 0.9699\n",
      "Epoch 5/20, Train Loss: 0.0143, Val Loss: 0.5074, Val Accuracy: 0.9699\n",
      "Epoch 6/20, Train Loss: 0.0130, Val Loss: 0.5045, Val Accuracy: 0.9700\n",
      "Epoch 7/20, Train Loss: 0.0119, Val Loss: 0.5021, Val Accuracy: 0.9702\n",
      "Epoch 8/20, Train Loss: 0.0110, Val Loss: 0.5005, Val Accuracy: 0.9701\n",
      "Epoch 9/20, Train Loss: 0.0101, Val Loss: 0.4991, Val Accuracy: 0.9702\n",
      "Epoch 10/20, Train Loss: 0.0094, Val Loss: 0.4983, Val Accuracy: 0.9704\n",
      "Epoch 11/20, Train Loss: 0.0088, Val Loss: 0.4970, Val Accuracy: 0.9706\n",
      "Epoch 12/20, Train Loss: 0.0082, Val Loss: 0.4963, Val Accuracy: 0.9706\n",
      "Epoch 13/20, Train Loss: 0.0077, Val Loss: 0.4955, Val Accuracy: 0.9706\n",
      "Epoch 14/20, Train Loss: 0.0073, Val Loss: 0.4945, Val Accuracy: 0.9708\n",
      "Epoch 15/20, Train Loss: 0.0069, Val Loss: 0.4936, Val Accuracy: 0.9708\n",
      "Epoch 16/20, Train Loss: 0.0065, Val Loss: 0.4931, Val Accuracy: 0.9712\n",
      "Epoch 17/20, Train Loss: 0.0062, Val Loss: 0.4924, Val Accuracy: 0.9712\n",
      "Epoch 18/20, Train Loss: 0.0059, Val Loss: 0.4917, Val Accuracy: 0.9711\n",
      "Epoch 19/20, Train Loss: 0.0056, Val Loss: 0.4909, Val Accuracy: 0.9709\n",
      "Epoch 20/20, Train Loss: 0.0054, Val Loss: 0.4905, Val Accuracy: 0.9713\n",
      "Training completed.\n",
      "Final Validation Accuracy: 0.9713\n",
      "Test Accuracy: 0.9696\n"
     ]
    }
   ],
   "source": [
    "optimizer = torch.optim.SGD(model.parameters(), lr=0.01)\n",
    "\n",
    "# Training and validation\n",
    "train_losses, val_losses, val_accuracies = training_validation(model, optimizer, criterion, X_train_tensor, y_train_tensor, X_valid_tensor, y_valid_tensor, \n",
    "                         epochs=20, batch_size=64)\n",
    "\n",
    "# Final results\n",
    "print(\"Training completed.\")\n",
    "print(f\"Final Validation Accuracy: {val_accuracies[-1]:.4f}\")\n",
    "\n",
    "accuracy = evaluate_model(model, X_test_tensor, y_test_tensor)\n",
    "print(f\"Test Accuracy: {accuracy:.4f}\")"
   ]
  },
  {
   "cell_type": "code",
   "execution_count": null,
   "metadata": {},
   "outputs": [],
   "source": [
    "# Liste des optimiseurs\n",
    "optimizers = {\n",
    "    'SGD': torch.optim.SGD,\n",
    "    'Adam': torch.optim.Adam,\n",
    "    'BGE_Adam': BGE_Adam\n",
    "}\n",
    "\n",
    "# Création de l'objet Trainer\n",
    "trainer = Trainer(\n",
    "    model_class=SimpleNN,\n",
    "    input_dim=input_dim,\n",
    "    num_classes=num_classes,\n",
    "    criterion=torch.nn.CrossEntropyLoss(),\n",
    "    optimizers=optimizers,\n",
    "    epochs=20,\n",
    "    batch_size=64\n",
    ")\n",
    "\n",
    "# Comparaison des optimiseurs\n",
    "results = trainer.compare_optimizers(\n",
    "    X_train=X_train_tensor, \n",
    "    y_train=y_train_tensor, \n",
    "    X_valid=X_valid_tensor, \n",
    "    y_valid=y_valid_tensor,\n",
    "    hyperparams_results=hyperparams_results\n",
    ")"
   ]
  },
  {
   "cell_type": "markdown",
   "metadata": {},
   "source": [
    "# Complex neural network"
   ]
  },
  {
   "cell_type": "markdown",
   "metadata": {},
   "source": [
    "## BGE-Adam optimizer"
   ]
  },
  {
   "cell_type": "code",
   "execution_count": 185,
   "metadata": {},
   "outputs": [],
   "source": [
    "# Model parameters\n",
    "input_dim = X_train.shape[1]  # 784\n",
    "num_classes = y_train.shape[1]  # 10\n",
    "\n",
    "# Initializing the model, optimizer and loss function\n",
    "model = ComplexNN(input_dim, num_classes)\n",
    "optimizer = BGE_Adam(model.parameters(), lr=0.01)\n",
    "criterion = nn.CrossEntropyLoss()  # Cross-entropy loss"
   ]
  },
  {
   "cell_type": "code",
   "execution_count": 186,
   "metadata": {},
   "outputs": [
    {
     "name": "stdout",
     "output_type": "stream",
     "text": [
      "Epoch 1/20, Train Loss: 0.6669, Val Loss: 0.2646, Val Accuracy: 0.9337\n",
      "Epoch 2/20, Train Loss: 0.5008, Val Loss: 0.2664, Val Accuracy: 0.9367\n",
      "Epoch 3/20, Train Loss: 0.4846, Val Loss: 0.2588, Val Accuracy: 0.9344\n",
      "Epoch 4/20, Train Loss: 0.4838, Val Loss: 0.2585, Val Accuracy: 0.9379\n",
      "Epoch 5/20, Train Loss: 0.4731, Val Loss: 0.2631, Val Accuracy: 0.9370\n",
      "Epoch 6/20, Train Loss: 0.4670, Val Loss: 0.2422, Val Accuracy: 0.9431\n",
      "Epoch 7/20, Train Loss: 0.4763, Val Loss: 0.2536, Val Accuracy: 0.9442\n",
      "Epoch 8/20, Train Loss: 0.4785, Val Loss: 0.2444, Val Accuracy: 0.9400\n",
      "Epoch 9/20, Train Loss: 0.4775, Val Loss: 0.2319, Val Accuracy: 0.9430\n",
      "Epoch 10/20, Train Loss: 0.4690, Val Loss: 0.2561, Val Accuracy: 0.9427\n",
      "Epoch 11/20, Train Loss: 0.4771, Val Loss: 0.2473, Val Accuracy: 0.9456\n",
      "Epoch 12/20, Train Loss: 0.4814, Val Loss: 0.2658, Val Accuracy: 0.9444\n",
      "Epoch 13/20, Train Loss: 0.4928, Val Loss: 0.2565, Val Accuracy: 0.9473\n",
      "Epoch 14/20, Train Loss: 0.5036, Val Loss: 0.2608, Val Accuracy: 0.9448\n",
      "Epoch 15/20, Train Loss: 0.4990, Val Loss: 0.2569, Val Accuracy: 0.9464\n",
      "Epoch 16/20, Train Loss: 0.4902, Val Loss: 0.2833, Val Accuracy: 0.9474\n",
      "Epoch 17/20, Train Loss: 0.4977, Val Loss: 0.2871, Val Accuracy: 0.9471\n",
      "Epoch 18/20, Train Loss: 0.5094, Val Loss: 0.2776, Val Accuracy: 0.9494\n",
      "Epoch 19/20, Train Loss: 0.5117, Val Loss: 0.2731, Val Accuracy: 0.9458\n",
      "Epoch 20/20, Train Loss: 0.5089, Val Loss: 0.2810, Val Accuracy: 0.9447\n",
      "Training completed.\n",
      "Final Validation Accuracy: 0.9447\n",
      "Test Accuracy: 0.9499\n"
     ]
    }
   ],
   "source": [
    "# Training and validation\n",
    "train_losses, val_losses, val_accuracies = training_validation(model, optimizer, criterion, X_train_tensor, y_train_tensor, X_valid_tensor, y_valid_tensor, \n",
    "                         epochs=20, batch_size=64)\n",
    "\n",
    "# Final results\n",
    "print(\"Training completed.\")\n",
    "print(f\"Final Validation Accuracy: {val_accuracies[-1]:.4f}\")\n",
    "\n",
    "accuracy = evaluate_model(model, X_test_tensor, y_test_tensor)\n",
    "print(f\"Test Accuracy: {accuracy:.4f}\")"
   ]
  },
  {
   "cell_type": "markdown",
   "metadata": {},
   "source": [
    "## Adam optimizer"
   ]
  },
  {
   "cell_type": "code",
   "execution_count": null,
   "metadata": {},
   "outputs": [],
   "source": [
    "optimizer = torch.optim.Adam(model.parameters(), lr=0.01)\n",
    "\n",
    "# Training and validation\n",
    "train_losses, val_losses, val_accuracies = training_validation(model, optimizer, criterion, X_train_tensor, y_train_tensor, X_valid_tensor, y_valid_tensor, \n",
    "                         epochs=20, batch_size=64)\n",
    "\n",
    "# Final results\n",
    "print(\"Training completed.\")\n",
    "print(f\"Final Validation Accuracy: {val_accuracies[-1]:.4f}\")\n",
    "\n",
    "accuracy = evaluate_model(model, X_test_tensor, y_test_tensor)\n",
    "print(f\"Test Accuracy: {accuracy:.4f}\")"
   ]
  },
  {
   "cell_type": "markdown",
   "metadata": {},
   "source": [
    "## SGD optimizer"
   ]
  },
  {
   "cell_type": "code",
   "execution_count": null,
   "metadata": {},
   "outputs": [],
   "source": [
    "# Données\n",
    "input_dim = X_train_tensor.shape[1]\n",
    "num_classes = len(torch.unique(y_train_tensor))\n",
    "\n",
    "# Liste des optimiseurs\n",
    "optimizers = {\n",
    "    'SGD': torch.optim.SGD,\n",
    "    'Adam': torch.optim.Adam,\n",
    "    'BGE_Adam': BGE_Adam\n",
    "}\n",
    "\n",
    "# Création de l'objet Trainer\n",
    "trainer = Trainer(\n",
    "    model_class=LogisticRegressionTorch,\n",
    "    input_dim=input_dim,\n",
    "    num_classes=num_classes,\n",
    "    criterion=torch.nn.CrossEntropyLoss(),\n",
    "    optimizers=optimizers,\n",
    "    epochs=20,\n",
    "    batch_size=64\n",
    ")\n",
    "\n",
    "# Comparaison des optimiseurs\n",
    "results = trainer.compare_optimizers(\n",
    "    X_train=X_train_tensor, \n",
    "    y_train=y_train_tensor, \n",
    "    X_valid=X_valid_tensor, \n",
    "    y_valid=y_valid_tensor,\n",
    "    X_test=X_test_tensor, \n",
    "    y_test=y_test_tensor\n",
    ")"
   ]
  },
  {
   "cell_type": "code",
   "execution_count": null,
   "metadata": {},
   "outputs": [],
   "source": [
    "optimizer = torch.optim.SGD(model.parameters(), lr=0.01)\n",
    "\n",
    "# Training and validation\n",
    "train_losses, val_losses, val_accuracies = training_validation(model, optimizer, criterion, X_train_tensor, y_train_tensor, X_valid_tensor, y_valid_tensor, \n",
    "                         epochs=20, batch_size=64)\n",
    "\n",
    "# Final results\n",
    "print(\"Training completed.\")\n",
    "print(f\"Final Validation Accuracy: {val_accuracies[-1]:.4f}\")\n",
    "\n",
    "accuracy = evaluate_model(model, X_test_tensor, y_test_tensor)\n",
    "print(f\"Test Accuracy: {accuracy:.4f}\")"
   ]
  },
  {
   "cell_type": "code",
   "execution_count": null,
   "metadata": {},
   "outputs": [],
   "source": [
    "# Liste des optimiseurs\n",
    "optimizers = {\n",
    "    'SGD': torch.optim.SGD,\n",
    "    'Adam': torch.optim.Adam,\n",
    "    'BGE_Adam': BGE_Adam\n",
    "}\n",
    "\n",
    "# Création de l'objet Trainer\n",
    "trainer = Trainer(\n",
    "    model_class=ComplexNN,\n",
    "    input_dim=input_dim,\n",
    "    num_classes=num_classes,\n",
    "    criterion=torch.nn.CrossEntropyLoss(),\n",
    "    optimizers=optimizers,\n",
    "    epochs=20,\n",
    "    batch_size=64\n",
    ")\n",
    "\n",
    "# Comparaison des optimiseurs\n",
    "results = trainer.compare_optimizers(\n",
    "    X_train=X_train_tensor, \n",
    "    y_train=y_train_tensor, \n",
    "    X_valid=X_valid_tensor, \n",
    "    y_valid=y_valid_tensor,\n",
    "    hyperparams_results=hyperparams_results\n",
    ")"
   ]
  },
  {
   "cell_type": "markdown",
   "metadata": {},
   "source": [
    "# Comparison of BGE-Adam with Adam and SGD"
   ]
  },
  {
   "cell_type": "code",
   "execution_count": 2,
   "metadata": {},
   "outputs": [],
   "source": [
    "from utils import compare_optimizers"
   ]
  },
  {
   "cell_type": "code",
   "execution_count": 3,
   "metadata": {},
   "outputs": [
    {
     "ename": "NameError",
     "evalue": "name 'X_train_tensor' is not defined",
     "output_type": "error",
     "traceback": [
      "\u001b[1;31m---------------------------------------------------------------------------\u001b[0m",
      "\u001b[1;31mNameError\u001b[0m                                 Traceback (most recent call last)",
      "Cell \u001b[1;32mIn[3], line 2\u001b[0m\n\u001b[0;32m      1\u001b[0m \u001b[38;5;66;03m# Configurer les paramètres du modèle\u001b[39;00m\n\u001b[1;32m----> 2\u001b[0m input_dim \u001b[38;5;241m=\u001b[39m \u001b[43mX_train_tensor\u001b[49m\u001b[38;5;241m.\u001b[39mshape[\u001b[38;5;241m1\u001b[39m]\n\u001b[0;32m      3\u001b[0m num_classes \u001b[38;5;241m=\u001b[39m \u001b[38;5;28mlen\u001b[39m(torch\u001b[38;5;241m.\u001b[39munique(y_train_tensor))\n\u001b[0;32m      5\u001b[0m \u001b[38;5;66;03m# Appeler la comparaison des optimiseurs\u001b[39;00m\n",
      "\u001b[1;31mNameError\u001b[0m: name 'X_train_tensor' is not defined"
     ]
    }
   ],
   "source": [
    "# Configurer les paramètres du modèle\n",
    "input_dim = X_train_tensor.shape[1]\n",
    "num_classes = len(torch.unique(y_train_tensor))\n",
    "\n",
    "# Appeler la comparaison des optimiseurs\n",
    "compare_optimizers(\n",
    "    LogisticRegressionTorch, \n",
    "    input_dim, \n",
    "    num_classes, \n",
    "    X_train_tensor, \n",
    "    y_train_tensor, \n",
    "    X_test_tensor, \n",
    "    y_test_tensor\n",
    ")"
   ]
  },
  {
   "cell_type": "markdown",
   "metadata": {},
   "source": [
    "Comparison with cross validation"
   ]
  },
  {
   "cell_type": "code",
   "execution_count": 191,
   "metadata": {},
   "outputs": [],
   "source": [
    "def cross_validate_optimizer(optimizer_class, model_class, X_train, y_train, k_folds=5, **kwargs):\n",
    "    kfold = KFold(n_splits=k_folds, shuffle=True)\n",
    "    fold_results = []\n",
    "\n",
    "    criterion = torch.nn.CrossEntropyLoss()\n",
    "    for fold, (train_idx, val_idx) in enumerate(kfold.split(X_train)):\n",
    "        print(f'Fold {fold + 1}/{k_folds}')\n",
    "        \n",
    "        X_train_fold = X_train[train_idx]\n",
    "        y_train_fold = y_train[train_idx]\n",
    "        X_val_fold = X_train[val_idx]\n",
    "        y_val_fold = y_train[val_idx]\n",
    "        \n",
    "        model = model_class(input_dim, num_classes)\n",
    "        optimizer = optimizer_class(model.parameters(), **kwargs)\n",
    "        \n",
    "        for epoch in range(5):  # Short training per fold\n",
    "            model.train()\n",
    "            optimizer.zero_grad()\n",
    "            outputs = model(X_train_fold)\n",
    "            loss = criterion(outputs, y_train_fold)\n",
    "            loss.backward()\n",
    "            optimizer.step()\n",
    "\n",
    "        model.eval()\n",
    "        with torch.no_grad():\n",
    "            val_outputs = model(X_val_fold)\n",
    "            val_loss = criterion(val_outputs, y_val_fold).item()\n",
    "            fold_results.append(val_loss)\n",
    "\n",
    "    return sum(fold_results) / len(fold_results)  # Mean validation loss across folds\n"
   ]
  },
  {
   "cell_type": "code",
   "execution_count": 192,
   "metadata": {},
   "outputs": [
    {
     "name": "stdout",
     "output_type": "stream",
     "text": [
      "Evaluating SGD...\n",
      "Fold 1/5\n",
      "Fold 2/5\n",
      "Fold 3/5\n",
      "Fold 4/5\n",
      "Fold 5/5\n",
      "Evaluating Adam...\n",
      "Fold 1/5\n",
      "Fold 2/5\n",
      "Fold 3/5\n",
      "Fold 4/5\n",
      "Fold 5/5\n",
      "Evaluating BGE_Adam...\n",
      "Fold 1/5\n",
      "Fold 2/5\n",
      "Fold 3/5\n",
      "Fold 4/5\n",
      "Fold 5/5\n"
     ]
    },
    {
     "data": {
      "image/png": "[encoded data removed]",
      "text/plain": [
       "<Figure size 640x480 with 1 Axes>"
      ]
     },
     "metadata": {},
     "output_type": "display_data"
    }
   ],
   "source": [
    "optimizers = {\n",
    "    'SGD': optim.SGD,\n",
    "    'Adam': optim.Adam,\n",
    "    'BGE_Adam': BGE_Adam\n",
    "}\n",
    "\n",
    "results = {}\n",
    "for name, opt_class in optimizers.items():\n",
    "    print(f'Evaluating {name}...')\n",
    "    results[name] = cross_validate_optimizer(opt_class, LogisticRegressionTorch, X_train_tensor, y_train_tensor, lr=0.01)\n",
    "\n",
    "# Affichage des résultats\n",
    "plt.bar(results.keys(), results.values(), color=['blue', 'orange', 'green'])\n",
    "plt.title('Mean Validation Loss per Optimizer')\n",
    "plt.ylabel('Mean Validation Loss')\n",
    "plt.show()\n"
   ]
  },
  {
   "cell_type": "code",
   "execution_count": 193,
   "metadata": {},
   "outputs": [
    {
     "name": "stdout",
     "output_type": "stream",
     "text": [
      "Evaluating SGD...\n",
      "SGD: Loss = 2.2217, Accuracy = 21.1600%\n",
      "Evaluating Adam...\n",
      "Adam: Loss = 0.5573, Accuracy = 85.1400%\n",
      "Evaluating BGE_Adam...\n",
      "BGE_Adam: Loss = 0.6577, Accuracy = 86.1300%\n"
     ]
    }
   ],
   "source": [
    "def evaluate_generalization(model_class, optimizer_class, X_train, y_train, X_test, y_test, **kwargs):\n",
    "    model = model_class(input_dim, num_classes)\n",
    "    optimizer = optimizer_class(model.parameters(), **kwargs)\n",
    "    criterion = torch.nn.CrossEntropyLoss()\n",
    "\n",
    "    # Training\n",
    "    model.train()\n",
    "    for epoch in range(10):\n",
    "        optimizer.zero_grad()\n",
    "        outputs = model(X_train)\n",
    "        loss = criterion(outputs, y_train)\n",
    "        loss.backward()\n",
    "        optimizer.step()\n",
    "\n",
    "    # Evaluation over the test \n",
    "    model.eval()\n",
    "    with torch.no_grad():\n",
    "        test_outputs = model(X_test)\n",
    "        test_loss = criterion(test_outputs, y_test).item()\n",
    "        test_predictions = torch.argmax(test_outputs, dim=1)\n",
    "        test_accuracy = (test_predictions == y_test).float().mean().item()\n",
    "\n",
    "    return test_loss, test_accuracy\n",
    "\n",
    "# Comparison \n",
    "for name, opt_class in optimizers.items():\n",
    "    print(f'Evaluating {name}...')\n",
    "    loss, accuracy = evaluate_generalization(\n",
    "        LogisticRegressionTorch, opt_class, \n",
    "        X_train_tensor, y_train_tensor, \n",
    "        X_test_tensor, y_test_tensor, \n",
    "        lr=0.01\n",
    "    )\n",
    "    print(f\"{name}: Loss = {loss:.4f}, Accuracy = {accuracy:.4%}\")\n"
   ]
  },
  {
   "cell_type": "code",
   "execution_count": 194,
   "metadata": {},
   "outputs": [
    {
     "data": {
      "image/png": "[encoded data removed]",
      "text/plain": [
       "<Figure size 1000x600 with 1 Axes>"
      ]
     },
     "metadata": {},
     "output_type": "display_data"
    }
   ],
   "source": [
    "def track_gradient_norms(model_class, optimizer_class, X_train, y_train, **kwargs):\n",
    "    model = model_class(input_dim, num_classes)\n",
    "    optimizer = optimizer_class(model.parameters(), **kwargs)\n",
    "    criterion = torch.nn.CrossEntropyLoss()\n",
    "\n",
    "    grad_norms = []\n",
    "    for epoch in range(10):\n",
    "        optimizer.zero_grad()\n",
    "        outputs = model(X_train)\n",
    "        loss = criterion(outputs, y_train)\n",
    "        loss.backward()\n",
    "\n",
    "        # Calculer et enregistrer la norme des gradients\n",
    "        total_grad_norm = sum(p.grad.norm().item() for p in model.parameters() if p.grad is not None)\n",
    "        grad_norms.append(total_grad_norm)\n",
    "\n",
    "        optimizer.step()\n",
    "    \n",
    "    return grad_norms\n",
    "\n",
    "# Affichage des normes de gradients pour chaque optimiseur\n",
    "plt.figure(figsize=(10, 6))\n",
    "for name, opt_class in optimizers.items():\n",
    "    grad_norms = track_gradient_norms(LogisticRegressionTorch, opt_class, X_train_tensor, y_train_tensor, lr=0.01)\n",
    "    plt.plot(grad_norms, label=name)\n",
    "\n",
    "plt.title('Gradient Norms Across Training')\n",
    "plt.xlabel('Epochs')\n",
    "plt.ylabel('Gradient Norm')\n",
    "plt.legend()\n",
    "plt.show()\n"
   ]
  },
  {
   "cell_type": "code",
   "execution_count": 195,
   "metadata": {},
   "outputs": [
    {
     "name": "stdout",
     "output_type": "stream",
     "text": [
      "Evaluating SGD...\n",
      "Evaluating Adam...\n",
      "Evaluating BGE_Adam...\n"
     ]
    },
    {
     "data": {
      "image/png": "[encoded data removed]",
      "text/plain": [
       "<Figure size 640x480 with 1 Axes>"
      ]
     },
     "metadata": {},
     "output_type": "display_data"
    }
   ],
   "source": [
    "def run_optimizer_with_time_check(optimizer_class, model, X_train, y_train, threshold_loss, **kwargs):\n",
    "    optimizer = optimizer_class(model.parameters(), **kwargs)\n",
    "    criterion = torch.nn.CrossEntropyLoss()\n",
    "    start_time = time.time()\n",
    "    \n",
    "    for epoch in range(10):\n",
    "        optimizer.zero_grad()\n",
    "        outputs = model(X_train)\n",
    "        loss = criterion(outputs, y_train)\n",
    "        loss.backward()\n",
    "        optimizer.step()\n",
    "\n",
    "        if loss.item() < threshold_loss:\n",
    "            return time.time() - start_time\n",
    "\n",
    "    return time.time() - start_time\n",
    "\n",
    "# Comparison of threshold times\n",
    "threshold_loss = 0.2\n",
    "times = {}\n",
    "for name, opt_class in optimizers.items():\n",
    "    print(f'Evaluating {name}...')\n",
    "    time_taken = run_optimizer_with_time_check(\n",
    "        opt_class, LogisticRegressionTorch(input_dim, num_classes), \n",
    "        X_train_tensor, y_train_tensor, threshold_loss, lr=0.01\n",
    "    )\n",
    "    times[name] = time_taken\n",
    "\n",
    "plt.bar(times.keys(), times.values(), color=['blue', 'orange', 'green'])\n",
    "plt.title('Time to reach threshold loss')\n",
    "plt.ylabel('Time (s)')\n",
    "plt.show()\n"
   ]
  },
  {
   "cell_type": "markdown",
   "metadata": {},
   "source": [
    "### Comparison of training loss and accuracy"
   ]
  },
  {
   "cell_type": "code",
   "execution_count": 196,
   "metadata": {},
   "outputs": [],
   "source": [
    "def evaluate_optimizer(model_class, optimizer_class, X_train, y_train, X_test, y_test, lr, num_epochs=10):\n",
    "    model = model_class(input_dim, num_classes)\n",
    "    optimizer = optimizer_class(model.parameters(), lr=lr)\n",
    "    criterion = torch.nn.CrossEntropyLoss()\n",
    "\n",
    "    train_losses = []\n",
    "    test_accuracies = []\n",
    "\n",
    "    for epoch in range(num_epochs):\n",
    "        # Training\n",
    "        model.train()\n",
    "        optimizer.zero_grad()\n",
    "        outputs = model(X_train)\n",
    "        loss = criterion(outputs, y_train)\n",
    "        loss.backward()\n",
    "        optimizer.step()\n",
    "        train_losses.append(loss.item())\n",
    "\n",
    "        # Evaluation\n",
    "        model.eval()\n",
    "        with torch.no_grad():\n",
    "            test_outputs = model(X_test)\n",
    "            test_predictions = torch.argmax(test_outputs, dim=1)\n",
    "            test_accuracy = (test_predictions == y_test).float().mean().item()\n",
    "            test_accuracies.append(test_accuracy)\n",
    "\n",
    "    return train_losses, test_accuracies\n"
   ]
  },
  {
   "cell_type": "code",
   "execution_count": 197,
   "metadata": {},
   "outputs": [],
   "source": [
    "def compare_optimizers_with_accuracy(model_class, X_train, y_train, X_test, y_test, lr, num_epochs=10):\n",
    "    optimizers = {\n",
    "        'SGD': optim.SGD,\n",
    "        'Adam': optim.Adam,\n",
    "        'BGE_Adam': BGE_Adam\n",
    "    }\n",
    "\n",
    "    results = {}\n",
    "\n",
    "    for name, optimizer_class in optimizers.items():\n",
    "        print(f'Evaluating {name}...')\n",
    "        train_losses, test_accuracies = evaluate_optimizer(\n",
    "            model_class, optimizer_class, \n",
    "            X_train, y_train, X_test, y_test, \n",
    "            lr=lr, num_epochs=num_epochs\n",
    "        )\n",
    "        results[name] = {\n",
    "            'train_losses': train_losses,\n",
    "            'test_accuracies': test_accuracies\n",
    "        }\n",
    "\n",
    "    # Plot the results\n",
    "    plt.figure(figsize=(14, 6))\n",
    "\n",
    "    # Training loss\n",
    "    plt.subplot(1, 2, 1)\n",
    "    for name, result in results.items():\n",
    "        plt.plot(result['train_losses'], label=name)\n",
    "    plt.title('Training Loss')\n",
    "    plt.xlabel('Epochs')\n",
    "    plt.ylabel('Loss')\n",
    "    plt.legend()\n",
    "\n",
    "    # Accuracy over the test\n",
    "    plt.subplot(1, 2, 2)\n",
    "    for name, result in results.items():\n",
    "        plt.plot(result['test_accuracies'], label=name)\n",
    "    plt.title('Test Accuracy')\n",
    "    plt.xlabel('Epochs')\n",
    "    plt.ylabel('Accuracy')\n",
    "    plt.legend()\n",
    "\n",
    "    plt.tight_layout()\n",
    "    plt.show()\n",
    "\n",
    "    # Final results\n",
    "    final_results = {name: result['test_accuracies'][-1] for name, result in results.items()}\n",
    "    for name, accuracy in final_results.items():\n",
    "        print(f'{name}: Final test accuracy = {accuracy:.4%}')\n"
   ]
  },
  {
   "cell_type": "code",
   "execution_count": 198,
   "metadata": {},
   "outputs": [
    {
     "name": "stdout",
     "output_type": "stream",
     "text": [
      "Evaluating SGD...\n",
      "Evaluating Adam...\n",
      "Evaluating BGE_Adam...\n"
     ]
    },
    {
     "data": {
      "image/png": "[encoded data removed]",
      "text/plain": [
       "<Figure size 1400x600 with 2 Axes>"
      ]
     },
     "metadata": {},
     "output_type": "display_data"
    },
    {
     "name": "stdout",
     "output_type": "stream",
     "text": [
      "SGD: Final test accuracy = 28.9900%\n",
      "Adam: Final test accuracy = 84.9100%\n",
      "BGE_Adam: Final test accuracy = 86.5100%\n"
     ]
    }
   ],
   "source": [
    "# Initialisation des paramètres\n",
    "input_dim = 28 * 28  # Dimension des données MNIST aplaties\n",
    "num_classes = 10     # Nombre de classes\n",
    "lr = 0.01            # Taux d'apprentissage\n",
    "num_epochs = 10      # Nombre d'époques d'entraînement\n",
    "\n",
    "# Convertir les données MNIST en tenseurs Torch\n",
    "X_train_tensor = X_train_tensor.view(-1, 28 * 28).float()\n",
    "y_train_tensor = y_train_tensor.long()\n",
    "X_test_tensor = X_test_tensor.view(-1, 28 * 28).float()\n",
    "y_test_tensor = y_test_tensor.long()\n",
    "\n",
    "# Comparaison des optimiseurs\n",
    "compare_optimizers_with_accuracy(LogisticRegressionTorch, X_train_tensor, y_train_tensor, X_test_tensor, y_test_tensor, lr, num_epochs)"
   ]
  },
  {
   "cell_type": "code",
   "execution_count": 200,
   "metadata": {},
   "outputs": [],
   "source": [
    "def accuracy(y_true, y_pred):\n",
    "    return (y_true == y_pred).float().mean().item()"
   ]
  },
  {
   "cell_type": "code",
   "execution_count": 202,
   "metadata": {},
   "outputs": [],
   "source": [
    "def precision(y_true, y_pred):\n",
    "    return precision_score(y_true.numpy(), y_pred.numpy(), average='weighted', zero_division=1)"
   ]
  },
  {
   "cell_type": "code",
   "execution_count": 203,
   "metadata": {},
   "outputs": [],
   "source": [
    "def recall(y_true, y_pred):\n",
    "    return recall_score(y_true.numpy(), y_pred.numpy(), average='weighted', zero_division=1)\n"
   ]
  },
  {
   "cell_type": "code",
   "execution_count": 204,
   "metadata": {},
   "outputs": [],
   "source": [
    "def f1_score_metric(y_true, y_pred):\n",
    "    return f1_score(y_true.numpy(), y_pred.numpy(), average='weighted', zero_division=1)"
   ]
  },
  {
   "cell_type": "code",
   "execution_count": 205,
   "metadata": {},
   "outputs": [
    {
     "name": "stdout",
     "output_type": "stream",
     "text": [
      "Epoch 1/10, Loss: 0.4789876341819763\n",
      "Epoch 2/10, Loss: 0.46816715598106384\n",
      "Epoch 3/10, Loss: 0.49798083305358887\n",
      "Epoch 4/10, Loss: 0.48481419682502747\n",
      "Epoch 5/10, Loss: 0.48080915212631226\n",
      "Epoch 6/10, Loss: 0.4748058319091797\n",
      "Epoch 7/10, Loss: 0.4956200420856476\n",
      "Epoch 8/10, Loss: 0.4918159246444702\n",
      "Epoch 9/10, Loss: 0.4903280436992645\n",
      "Epoch 10/10, Loss: 0.48211321234703064\n",
      "Epoch 1/10, Loss: 0.47118785977363586\n",
      "Epoch 2/10, Loss: 0.46524760127067566\n",
      "Epoch 3/10, Loss: 0.45404642820358276\n",
      "Epoch 4/10, Loss: 0.4467705488204956\n",
      "Epoch 5/10, Loss: 0.4201251268386841\n",
      "Epoch 6/10, Loss: 0.42236328125\n",
      "Epoch 7/10, Loss: 0.4121055006980896\n",
      "Epoch 8/10, Loss: 0.40384212136268616\n",
      "Epoch 9/10, Loss: 0.40417978167533875\n",
      "Epoch 10/10, Loss: 0.3940989673137665\n",
      "Epoch 1/10, Loss: 0.3969237506389618\n",
      "Epoch 2/10, Loss: 0.3911937177181244\n",
      "Epoch 3/10, Loss: 0.38419368863105774\n",
      "Epoch 4/10, Loss: 0.37985342741012573\n",
      "Epoch 5/10, Loss: 0.3808380663394928\n",
      "Epoch 6/10, Loss: 0.3709046244621277\n",
      "Epoch 7/10, Loss: 0.37743115425109863\n",
      "Epoch 8/10, Loss: 0.3627234995365143\n",
      "Epoch 9/10, Loss: 0.3612935245037079\n",
      "Epoch 10/10, Loss: 0.36905330419540405\n"
     ]
    }
   ],
   "source": [
    "def run_optimizer(optimizer_class, model, X_train, y_train, X_test, y_test, num_epochs, lr):\n",
    "    optimizer = optimizer_class(model.parameters(), lr=lr)\n",
    "    losses = []\n",
    "    all_accuracy = []\n",
    "    all_precision = []\n",
    "    all_recall = []\n",
    "    all_f1_score = []\n",
    "\n",
    "    for epoch in range(num_epochs):\n",
    "        model.train()\n",
    "        optimizer.zero_grad()\n",
    "        outputs = model(X_train)\n",
    "        loss = torch.nn.functional.cross_entropy(outputs, y_train)\n",
    "        loss.backward()\n",
    "        optimizer.step()\n",
    "\n",
    "        # Evaluation\n",
    "        model.eval()\n",
    "        with torch.no_grad():\n",
    "            outputs_test = model(X_test)\n",
    "            _, y_pred = torch.max(outputs_test, 1)\n",
    "            accuracy_val = accuracy(y_test, y_pred)\n",
    "            precision_val = precision(y_test, y_pred)\n",
    "            recall_val = recall(y_test, y_pred)\n",
    "            f1_val = f1_score_metric(y_test, y_pred)\n",
    "\n",
    "            all_accuracy.append(accuracy_val)\n",
    "            all_precision.append(precision_val)\n",
    "            all_recall.append(recall_val)\n",
    "            all_f1_score.append(f1_val)\n",
    "\n",
    "        print(f'Epoch {epoch+1}/{num_epochs}, Loss: {loss.item()}')\n",
    "\n",
    "    return all_accuracy, all_precision, all_recall, all_f1_score\n",
    "\n",
    "# Comparaison des optimiseurs\n",
    "num_epochs = 10\n",
    "lr = 0.001\n",
    "\n",
    "results_sgd = run_optimizer(torch.optim.SGD, model, X_train_tensor, y_train_tensor, X_test_tensor, y_test_tensor, num_epochs, lr)\n",
    "results_adam = run_optimizer(torch.optim.Adam, model, X_train_tensor, y_train_tensor, X_test_tensor, y_test_tensor, num_epochs, lr)\n",
    "results_bge_adam = run_optimizer(BGE_Adam, model, X_train_tensor, y_train_tensor, X_test_tensor, y_test_tensor, num_epochs, lr)\n"
   ]
  },
  {
   "cell_type": "code",
   "execution_count": 206,
   "metadata": {},
   "outputs": [
    {
     "name": "stdout",
     "output_type": "stream",
     "text": [
      "\n",
      "BGE_Adam Results:\n",
      "Accuracy: 0.9552000164985657\n",
      "Precision: 0.9554530657436117\n",
      "Recall: 0.9552\n",
      "F1 Score: 0.9552394375189047\n"
     ]
    }
   ],
   "source": [
    "print(\"\\nBGE_Adam Results:\")\n",
    "print(f\"Accuracy: {results_bge_adam[0][-1]}\")\n",
    "print(f\"Precision: {results_bge_adam[1][-1]}\")\n",
    "print(f\"Recall: {results_bge_adam[2][-1]}\")\n",
    "print(f\"F1 Score: {results_bge_adam[3][-1]}\")"
   ]
  },
  {
   "cell_type": "code",
   "execution_count": 207,
   "metadata": {},
   "outputs": [
    {
     "name": "stdout",
     "output_type": "stream",
     "text": [
      "\n",
      "Adam Results:\n",
      "Accuracy: 0.953000009059906\n",
      "Precision: 0.9532549643526709\n",
      "Recall: 0.953\n",
      "F1 Score: 0.9530237951738701\n"
     ]
    }
   ],
   "source": [
    "print(\"\\nAdam Results:\")\n",
    "print(f\"Accuracy: {results_adam[0][-1]}\")\n",
    "print(f\"Precision: {results_adam[1][-1]}\")\n",
    "print(f\"Recall: {results_adam[2][-1]}\")\n",
    "print(f\"F1 Score: {results_adam[3][-1]}\")"
   ]
  },
  {
   "cell_type": "code",
   "execution_count": 208,
   "metadata": {},
   "outputs": [
    {
     "name": "stdout",
     "output_type": "stream",
     "text": [
      "SGD Results:\n",
      "Accuracy: 0.9502000212669373\n",
      "Precision: 0.9509959083997436\n",
      "Recall: 0.9502\n",
      "F1 Score: 0.9502817252928538\n"
     ]
    }
   ],
   "source": [
    "# Affichage des résultats\n",
    "print(\"SGD Results:\")\n",
    "print(f\"Accuracy: {results_sgd[0][-1]}\")\n",
    "print(f\"Precision: {results_sgd[1][-1]}\")\n",
    "print(f\"Recall: {results_sgd[2][-1]}\")\n",
    "print(f\"F1 Score: {results_sgd[3][-1]}\")\n"
   ]
  },
  {
   "cell_type": "code",
   "execution_count": null,
   "metadata": {},
   "outputs": [
    {
     "name": "stdout",
     "output_type": "stream",
     "text": [
      "SGD Results: {'accuracy': [0.15940000116825104, 0.15940000116825104, 0.15940000116825104, 0.15940000116825104, 0.15940000116825104, 0.15940000116825104, 0.15940000116825104, 0.15940000116825104, 0.15940000116825104, 0.15940000116825104], 'precision': [0.10154309194532657, 0.10154309194532657, 0.10154309194532657, 0.10154309194532657, 0.10154309194532657, 0.10154309194532657, 0.10154309194532657, 0.10154309194532657, 0.10154309194532657, 0.10154309194532657], 'recall': [0.1594, 0.1594, 0.1594, 0.1594, 0.1594, 0.1594, 0.1594, 0.1594, 0.1594, 0.1594], 'f1_score': [0.10960281881050524, 0.10960281881050524, 0.10960281881050524, 0.10960281881050524, 0.10960281881050524, 0.10960281881050524, 0.10960281881050524, 0.10960281881050524, 0.10960281881050524, 0.10960281881050524]}\n",
      "Adam Results: {'accuracy': [0.09600000083446503, 0.09600000083446503, 0.09600000083446503, 0.09600000083446503, 0.09600000083446503, 0.09600000083446503, 0.09600000083446503, 0.09600000083446503, 0.09600000083446503, 0.09600000083446503], 'precision': [0.07026218192346993, 0.07026218192346993, 0.07026218192346993, 0.07026218192346993, 0.07026218192346993, 0.07026218192346993, 0.07026218192346993, 0.07026218192346993, 0.07026218192346993, 0.07026218192346993], 'recall': [0.096, 0.096, 0.096, 0.096, 0.096, 0.096, 0.096, 0.096, 0.096, 0.096], 'f1_score': [0.048641124319667974, 0.048641124319667974, 0.048641124319667974, 0.048641124319667974, 0.048641124319667974, 0.048641124319667974, 0.048641124319667974, 0.048641124319667974, 0.048641124319667974, 0.048641124319667974]}\n",
      "BGE_Adam Results: {'accuracy': [0.09109999984502792, 0.09109999984502792, 0.09109999984502792, 0.09109999984502792, 0.09109999984502792, 0.09109999984502792, 0.09109999984502792, 0.09109999984502792, 0.09109999984502792, 0.09109999984502792], 'precision': [0.11807220495244321, 0.11807220495244321, 0.11807220495244321, 0.11807220495244321, 0.11807220495244321, 0.11807220495244321, 0.11807220495244321, 0.11807220495244321, 0.11807220495244321, 0.11807220495244321], 'recall': [0.0911, 0.0911, 0.0911, 0.0911, 0.0911, 0.0911, 0.0911, 0.0911, 0.0911, 0.0911], 'f1_score': [0.08623142349119198, 0.08623142349119198, 0.08623142349119198, 0.08623142349119198, 0.08623142349119198, 0.08623142349119198, 0.08623142349119198, 0.08623142349119198, 0.08623142349119198, 0.08623142349119198]}\n"
     ]
    }
   ],
   "source": [
    "import torch\n",
    "import torch.optim as optim\n",
    "import numpy as np\n",
    "from sklearn.metrics import precision_score, recall_score, f1_score\n",
    "\n",
    "class Evaluator:\n",
    "    def __init__(self, model_class, input_dim, num_classes, lr=0.01, num_epochs=10):\n",
    "        self.model_class = model_class\n",
    "        self.input_dim = input_dim\n",
    "        self.num_classes = num_classes\n",
    "        self.lr = lr\n",
    "        self.num_epochs = num_epochs\n",
    "\n",
    "    def evaluate(self, optimizer_class, X_train, y_train, X_test, y_test):\n",
    "        optimizer = optimizer_class(self.model_class(self.input_dim, self.num_classes).parameters(), lr=self.lr)\n",
    "        model = self.model_class(self.input_dim, self.num_classes)\n",
    "\n",
    "        criterion = torch.nn.CrossEntropyLoss()\n",
    "        all_accuracy = []\n",
    "        all_precision = []\n",
    "        all_recall = []\n",
    "        all_f1_score = []\n",
    "\n",
    "        for epoch in range(self.num_epochs):\n",
    "            model.train()\n",
    "            optimizer.zero_grad()\n",
    "            outputs = model(X_train)\n",
    "            loss = criterion(outputs, y_train)\n",
    "            loss.backward()\n",
    "            optimizer.step()\n",
    "\n",
    "            # Evaluation\n",
    "            model.eval()\n",
    "            with torch.no_grad():\n",
    "                outputs_test = model(X_test)\n",
    "                _, y_pred = torch.max(outputs_test, 1)\n",
    "                accuracy_val = accuracy(y_test, y_pred)\n",
    "                precision_val = precision(y_test, y_pred)\n",
    "                recall_val = recall(y_test, y_pred)\n",
    "                f1_val = f1_score_metric(y_test, y_pred)\n",
    "\n",
    "                all_accuracy.append(accuracy_val)\n",
    "                all_precision.append(precision_val)\n",
    "                all_recall.append(recall_val)\n",
    "                all_f1_score.append(f1_val)\n",
    "\n",
    "        return {\n",
    "            'accuracy': all_accuracy,\n",
    "            'precision': all_precision,\n",
    "            'recall': all_recall,\n",
    "            'f1_score': all_f1_score\n",
    "        }\n",
    "\n",
    "# Exemple d'utilisation\n",
    "evaluator = Evaluator(LogisticRegressionTorch, input_dim, num_classes)\n",
    "results_sgd = evaluator.evaluate(torch.optim.SGD, X_train_tensor, y_train_tensor, X_test_tensor, y_test_tensor)\n",
    "results_adam = evaluator.evaluate(torch.optim.Adam, X_train_tensor, y_train_tensor, X_test_tensor, y_test_tensor)\n",
    "results_bge_adam = evaluator.evaluate(BGE_Adam, X_train_tensor, y_train_tensor, X_test_tensor, y_test_tensor)\n",
    "\n",
    "print(\"SGD Results:\", results_sgd)\n",
    "print(\"Adam Results:\", results_adam)\n",
    "print(\"BGE_Adam Results:\", results_bge_adam)"
   ]
  }
 ],
 "metadata": {
  "kernelspec": {
   "display_name": "Python 3",
   "language": "python",
   "name": "python3"
  },
  "language_info": {
   "codemirror_mode": {
    "name": "ipython",
    "version": 3
   },
   "file_extension": ".py",
   "mimetype": "text/x-python",
   "name": "python",
   "nbconvert_exporter": "python",
   "pygments_lexer": "ipython3",
   "version": "3.11.9"
  }
 },
 "nbformat": 4,
 "nbformat_minor": 2
}
